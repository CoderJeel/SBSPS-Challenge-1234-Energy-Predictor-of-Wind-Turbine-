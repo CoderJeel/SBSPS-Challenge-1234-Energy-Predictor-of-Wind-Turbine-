{
  "nbformat": 4,
  "nbformat_minor": 0,
  "metadata": {
    "colab": {
      "name": "Model Notebook",
      "provenance": [],
      "private_outputs": true,
      "collapsed_sections": []
    },
    "kernelspec": {
      "name": "python3",
      "display_name": "Python 3"
    },
    "accelerator": "TPU"
  },
  "cells": [
    {
      "cell_type": "code",
      "metadata": {
        "id": "v3P9teuD2wgP",
        "colab_type": "code",
        "colab": {}
      },
      "source": [
        ""
      ],
      "execution_count": null,
      "outputs": []
    },
    {
      "cell_type": "code",
      "metadata": {
        "id": "wQJTJQtZ6ot9",
        "colab_type": "code",
        "colab": {}
      },
      "source": [
        "from google.colab import drive\n",
        "drive.mount('/content/gdrive')"
      ],
      "execution_count": null,
      "outputs": []
    },
    {
      "cell_type": "code",
      "metadata": {
        "id": "mHsAWY_iWq5F",
        "colab_type": "code",
        "colab": {}
      },
      "source": [
        "import pandas as pd\n",
        "df = pd.read_csv('Data For NN.csv')"
      ],
      "execution_count": null,
      "outputs": []
    },
    {
      "cell_type": "code",
      "metadata": {
        "id": "h2VYMXkGXBZD",
        "colab_type": "code",
        "colab": {}
      },
      "source": [
        "df.head()"
      ],
      "execution_count": null,
      "outputs": []
    },
    {
      "cell_type": "code",
      "metadata": {
        "id": "Us93XQDGtIwG",
        "colab_type": "code",
        "colab": {}
      },
      "source": [
        "df.shape"
      ],
      "execution_count": null,
      "outputs": []
    },
    {
      "cell_type": "code",
      "metadata": {
        "id": "TYzXrX6ejaNQ",
        "colab_type": "code",
        "colab": {}
      },
      "source": [
        "df = df[(df.T != 0).any()]"
      ],
      "execution_count": null,
      "outputs": []
    },
    {
      "cell_type": "code",
      "metadata": {
        "id": "t6I_2wIbjcSC",
        "colab_type": "code",
        "colab": {}
      },
      "source": [
        "df.shape"
      ],
      "execution_count": null,
      "outputs": []
    },
    {
      "cell_type": "code",
      "metadata": {
        "id": "XL_Cb6wpXEwr",
        "colab_type": "code",
        "colab": {}
      },
      "source": [
        "df_1 = df.rename(columns={\"Wind Speed (m/s)\":\"wind Speed\",\"Theoretical_Power_Curve (KWh)\":\"power\",\"Wind Direction (°)\":\"wind dir\"})"
      ],
      "execution_count": null,
      "outputs": []
    },
    {
      "cell_type": "code",
      "metadata": {
        "id": "JTJePA96X7-S",
        "colab_type": "code",
        "colab": {}
      },
      "source": [
        "\n",
        "y = df.iloc[:,1:-1]\n",
        "df_1 = df.drop(columns='Theoretical_Power_Curve (KWh)')\n",
        "x = df_1.iloc[:,:]\n"
      ],
      "execution_count": null,
      "outputs": []
    },
    {
      "cell_type": "code",
      "metadata": {
        "id": "5US-m8iZt6Ol",
        "colab_type": "code",
        "colab": {}
      },
      "source": [
        "y.shape"
      ],
      "execution_count": null,
      "outputs": []
    },
    {
      "cell_type": "code",
      "metadata": {
        "id": "yGywO6Zlfgvg",
        "colab_type": "code",
        "colab": {}
      },
      "source": [
        "from sklearn.model_selection import train_test_split\n",
        "x_train,x_test,y_train,y_test = train_test_split(x,y,test_size=0.2)"
      ],
      "execution_count": null,
      "outputs": []
    },
    {
      "cell_type": "code",
      "metadata": {
        "id": "ZMRiFYyrseT7",
        "colab_type": "code",
        "colab": {}
      },
      "source": [
        "y_train.shape"
      ],
      "execution_count": null,
      "outputs": []
    },
    {
      "cell_type": "code",
      "metadata": {
        "id": "nod6ZW_bk53l",
        "colab_type": "code",
        "colab": {}
      },
      "source": [
        "from sklearn.ensemble import GradientBoostingRegressor"
      ],
      "execution_count": null,
      "outputs": []
    },
    {
      "cell_type": "code",
      "metadata": {
        "id": "sH5tj8JTnAGF",
        "colab_type": "code",
        "colab": {}
      },
      "source": [
        "mod = GradientBoostingRegressor()"
      ],
      "execution_count": null,
      "outputs": []
    },
    {
      "cell_type": "code",
      "metadata": {
        "id": "04uluKInnD9A",
        "colab_type": "code",
        "colab": {}
      },
      "source": [
        "mod.fit(x_train,y_train)"
      ],
      "execution_count": null,
      "outputs": []
    },
    {
      "cell_type": "code",
      "metadata": {
        "id": "7hFHIqf5nJzF",
        "colab_type": "code",
        "colab": {}
      },
      "source": [
        "mod.score(x_test,y_test)"
      ],
      "execution_count": null,
      "outputs": []
    },
    {
      "cell_type": "code",
      "metadata": {
        "id": "BOTbjg5D7iWP",
        "colab_type": "code",
        "colab": {}
      },
      "source": [
        "import pickle\n",
        "pickle.dump(mod, open('model.pkl','wb'))\n"
      ],
      "execution_count": null,
      "outputs": []
    },
    {
      "cell_type": "code",
      "metadata": {
        "id": "S4MWAW79PxCp",
        "colab_type": "code",
        "colab": {}
      },
      "source": [
        "import requests\n",
        "import json\n",
        "\n",
        "lat = str(22.25)\n",
        "log = str(71.19)"
      ],
      "execution_count": null,
      "outputs": []
    },
    {
      "cell_type": "code",
      "metadata": {
        "id": "6NudS5ZU-W0X",
        "colab_type": "code",
        "colab": {}
      },
      "source": [
        "url = 'https://api.openweathermap.org/data/2.5/onecall?lat='+lat+'&lon='+log+'&%20exclude=houly&appid=2be1dca4896e5b73df449f2570ee7c29'"
      ],
      "execution_count": null,
      "outputs": []
    },
    {
      "cell_type": "code",
      "metadata": {
        "id": "ZtWQIEZ_-hTm",
        "colab_type": "code",
        "colab": {}
      },
      "source": [
        "url"
      ],
      "execution_count": null,
      "outputs": []
    },
    {
      "cell_type": "code",
      "metadata": {
        "id": "T9QwWnNbUkk_",
        "colab_type": "code",
        "colab": {}
      },
      "source": [
        "respon = requests.get(url)"
      ],
      "execution_count": null,
      "outputs": []
    },
    {
      "cell_type": "code",
      "metadata": {
        "id": "qtusF18mUxJG",
        "colab_type": "code",
        "colab": {}
      },
      "source": [
        "respon_json = respon.json()"
      ],
      "execution_count": null,
      "outputs": []
    },
    {
      "cell_type": "code",
      "metadata": {
        "id": "LVD1EIKe-QGC",
        "colab_type": "code",
        "colab": {}
      },
      "source": [
        "respon_json"
      ],
      "execution_count": null,
      "outputs": []
    },
    {
      "cell_type": "code",
      "metadata": {
        "id": "4t7233UdVIwV",
        "colab_type": "code",
        "colab": {}
      },
      "source": [
        "data = respon_json['hourly']\n",
        "#df_2 = pd.DataFrame(respon_json)"
      ],
      "execution_count": null,
      "outputs": []
    },
    {
      "cell_type": "code",
      "metadata": {
        "id": "NvGH8_DbW6N4",
        "colab_type": "code",
        "colab": {}
      },
      "source": [
        "import pandas as pd\n",
        "\n",
        "df_2 = pd.DataFrame(data)"
      ],
      "execution_count": null,
      "outputs": []
    },
    {
      "cell_type": "code",
      "metadata": {
        "id": "-XKTe_0BYFd5",
        "colab_type": "code",
        "colab": {}
      },
      "source": [
        " df_2.drop(columns='weather')"
      ],
      "execution_count": null,
      "outputs": []
    },
    {
      "cell_type": "code",
      "metadata": {
        "id": "rKzB53nGnRDF",
        "colab_type": "code",
        "colab": {}
      },
      "source": [
        "df_2['dt'] = pd.to_datetime(df_2['dt'],unit='s')"
      ],
      "execution_count": null,
      "outputs": []
    },
    {
      "cell_type": "code",
      "metadata": {
        "id": "qPHV86Ppj3cT",
        "colab_type": "code",
        "colab": {}
      },
      "source": [
        "df_2"
      ],
      "execution_count": null,
      "outputs": []
    },
    {
      "cell_type": "code",
      "metadata": {
        "id": "BNBRxVRb57-P",
        "colab_type": "code",
        "colab": {}
      },
      "source": [
        "test_data = df_2.loc[:,['wind_speed','wind_deg']]"
      ],
      "execution_count": null,
      "outputs": []
    },
    {
      "cell_type": "code",
      "metadata": {
        "id": "wYCxSSIWnSY1",
        "colab_type": "code",
        "colab": {}
      },
      "source": [
        "pred = mod.predict(test_data)"
      ],
      "execution_count": null,
      "outputs": []
    },
    {
      "cell_type": "code",
      "metadata": {
        "id": "Odm-qVXznwgc",
        "colab_type": "code",
        "colab": {}
      },
      "source": [
        "df_3 = pd.DataFrame(df_2['dt'])"
      ],
      "execution_count": null,
      "outputs": []
    },
    {
      "cell_type": "code",
      "metadata": {
        "id": "UA0aFH3f6WU0",
        "colab_type": "code",
        "colab": {}
      },
      "source": [
        "df_3['predict'] = pd.DataFrame(pred)"
      ],
      "execution_count": null,
      "outputs": []
    },
    {
      "cell_type": "code",
      "metadata": {
        "id": "cxGMteWi6nj5",
        "colab_type": "code",
        "colab": {}
      },
      "source": [
        "df_3"
      ],
      "execution_count": null,
      "outputs": []
    }
  ]
}